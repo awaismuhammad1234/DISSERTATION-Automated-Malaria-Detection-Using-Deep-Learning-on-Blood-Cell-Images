{
 "cells": [
  {
   "cell_type": "markdown",
   "metadata": {},
   "source": [
    "# Data Loading"
   ]
  },
  {
   "cell_type": "code",
   "execution_count": 1,
   "metadata": {
    "execution": {
     "iopub.execute_input": "2024-11-25T15:38:35.937711Z",
     "iopub.status.busy": "2024-11-25T15:38:35.936667Z",
     "iopub.status.idle": "2024-11-25T15:38:48.796764Z",
     "shell.execute_reply": "2024-11-25T15:38:48.795649Z",
     "shell.execute_reply.started": "2024-11-25T15:38:35.937673Z"
    },
    "trusted": true
   },
   "outputs": [],
   "source": [
    "from tensorflow.keras.preprocessing.image import ImageDataGenerator\n",
    "\n",
    "# Path for the dataset\n",
    "data_dir = '/kaggle/input/cell-images-for-detecting-malaria/cell_images' \n",
    "class_labels = ['Parasitized', 'Uninfected']\n",
    "\n",
    "# Parameters\n",
    "img_height, img_width = 128, 128\n",
    "batch_size = 32\n",
    "train_split = 0.8"
   ]
  },
  {
   "cell_type": "code",
   "execution_count": 2,
   "metadata": {
    "_cell_guid": "b1076dfc-b9ad-4769-8c92-a6c4dae69d19",
    "_uuid": "8f2839f25d086af736a60e9eeb907d3b93b6e0e5",
    "execution": {
     "iopub.execute_input": "2024-11-25T15:38:48.799611Z",
     "iopub.status.busy": "2024-11-25T15:38:48.798872Z",
     "iopub.status.idle": "2024-11-25T15:39:37.181464Z",
     "shell.execute_reply": "2024-11-25T15:39:37.180367Z",
     "shell.execute_reply.started": "2024-11-25T15:38:48.799563Z"
    },
    "trusted": true
   },
   "outputs": [
    {
     "name": "stdout",
     "output_type": "stream",
     "text": [
      "Found 22048 images belonging to 2 classes.\n",
      "Found 5510 images belonging to 2 classes.\n"
     ]
    }
   ],
   "source": [
    "# ImageDataGenerator for training with augmentation\n",
    "train_datagen = ImageDataGenerator(\n",
    "    rescale=1.0/255.0,\n",
    "    rotation_range=15,\n",
    "    width_shift_range=0.1,\n",
    "    height_shift_range=0.1,\n",
    "    shear_range=0.1,\n",
    "    zoom_range=0.2,\n",
    "    horizontal_flip=True,\n",
    "    validation_split=1 - train_split  # Define the validation split\n",
    ")\n",
    "\n",
    "# ImageDataGenerator for validation (without augmentation)\n",
    "test_datagen = ImageDataGenerator(\n",
    "    rescale=1.0/255.0,\n",
    "    validation_split=1 - train_split\n",
    ")\n",
    "\n",
    "# Load the training data with augmentation\n",
    "train_generator = train_datagen.flow_from_directory(\n",
    "    data_dir,\n",
    "    target_size=(img_height, img_width),\n",
    "    batch_size=batch_size,\n",
    "    class_mode='binary',\n",
    "    subset='training',\n",
    "    shuffle=True,\n",
    "    classes=class_labels\n",
    ")\n",
    "\n",
    "# Load the validation data without augmentation\n",
    "test_generator = test_datagen.flow_from_directory(\n",
    "    data_dir,\n",
    "    target_size=(img_height, img_width),\n",
    "    batch_size=batch_size,\n",
    "    class_mode='binary',\n",
    "    subset='validation',\n",
    "    shuffle=False,\n",
    "    classes=class_labels\n",
    ")"
   ]
  },
  {
   "cell_type": "code",
   "execution_count": null,
   "metadata": {
    "trusted": true
   },
   "outputs": [],
   "source": [
    "import os\n",
    "import matplotlib.pyplot as plt\n",
    "import numpy as np\n",
    "\n",
    "class_dirs = [os.path.join(data_dir, class_name) for class_name in ['Parasitized', 'Uninfected']]\n",
    "\n",
    "# Count files in each class folder for the training and test sets\n",
    "train_split = 0.8\n",
    "train_counts = []\n",
    "test_counts = []\n",
    "\n",
    "for class_dir in class_dirs:\n",
    "    total_count = len(os.listdir(class_dir))\n",
    "    train_count = int(total_count * train_split)\n",
    "    test_count = total_count - train_count\n",
    "    train_counts.append(train_count)\n",
    "    test_counts.append(test_count)\n",
    "\n",
    "# Plotting the class distribution\n",
    "x = np.arange(len(class_labels))  # Label locations\n",
    "width = 0.35  # Width of bars\n",
    "\n",
    "fig, ax = plt.subplots(figsize=(10, 6))\n",
    "rects1 = ax.bar(x - width/2, train_counts, width, label='Training')\n",
    "rects2 = ax.bar(x + width/2, test_counts, width, label='Test')\n",
    "\n",
    "# Adding labels, title, and customizing ticks\n",
    "ax.set_xlabel('Class')\n",
    "ax.set_ylabel('Count')\n",
    "ax.set_title('Class Distribution in Training and Test Sets')\n",
    "ax.set_xticks(x)\n",
    "ax.set_xticklabels(class_labels)\n",
    "ax.legend()\n",
    "\n",
    "# Adding data labels\n",
    "def add_labels(rects):\n",
    "    for rect in rects:\n",
    "        height = rect.get_height()\n",
    "        ax.annotate(f'{int(height)}',\n",
    "                    xy=(rect.get_x() + rect.get_width() / 2, height),\n",
    "                    xytext=(0, 3),\n",
    "                    textcoords=\"offset points\",\n",
    "                    ha='center', va='bottom')\n",
    "\n",
    "add_labels(rects1)\n",
    "add_labels(rects2)\n",
    "\n",
    "plt.show()"
   ]
  },
  {
   "cell_type": "code",
   "execution_count": null,
   "metadata": {},
   "outputs": [],
   "source": [
    "from PIL import Image\n",
    "import cv2\n",
    "import matplotlib.pyplot as plt\n",
    "\n",
    "# Initialize dictionaries to store sizes and pixel intensities\n",
    "image_data = {'Parasitized': {'sizes': [], 'pixel_intensities': []},\n",
    "              'Uninfected': {'sizes': [], 'pixel_intensities': []}}\n",
    "\n",
    "# Iterate through the dataset once\n",
    "for class_name in class_labels:\n",
    "    class_path = os.path.join(data_dir, class_name)\n",
    "    for img_name in os.listdir(class_path)[:1000]:\n",
    "        if img_name.endswith(\".png\"):  # Ensure only .png files are processed\n",
    "            img_path = os.path.join(class_path, img_name)\n",
    "\n",
    "            # Get image size using PIL\n",
    "            img = Image.open(img_path)\n",
    "            image_data[class_name]['sizes'].append(img.size)\n",
    "\n",
    "            # Get pixel intensities using OpenCV\n",
    "            img_cv = cv2.imread(img_path, cv2.IMREAD_GRAYSCALE)  # Convert to grayscale\n",
    "            image_data[class_name]['pixel_intensities'].extend(img_cv.flatten())"
   ]
  },
  {
   "cell_type": "code",
   "execution_count": null,
   "metadata": {},
   "outputs": [],
   "source": []
  }
 ],
 "metadata": {
  "kaggle": {
   "accelerator": "none",
   "dataSources": [
    {
     "datasetId": 87153,
     "sourceId": 200743,
     "sourceType": "datasetVersion"
    }
   ],
   "dockerImageVersionId": 30786,
   "isGpuEnabled": false,
   "isInternetEnabled": true,
   "language": "python",
   "sourceType": "notebook"
  },
  "kernelspec": {
   "display_name": "Python 3",
   "language": "python",
   "name": "python3"
  },
  "language_info": {
   "codemirror_mode": {
    "name": "ipython",
    "version": 3
   },
   "file_extension": ".py",
   "mimetype": "text/x-python",
   "name": "python",
   "nbconvert_exporter": "python",
   "pygments_lexer": "ipython3",
   "version": "3.10.14"
  }
 },
 "nbformat": 4,
 "nbformat_minor": 4
}
