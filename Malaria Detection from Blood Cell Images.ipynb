{
 "cells": [
  {
   "cell_type": "markdown",
   "metadata": {},
   "source": [
    "# Data Loading"
   ]
  },
  {
   "cell_type": "code",
   "execution_count": 1,
   "metadata": {
    "execution": {
     "iopub.execute_input": "2024-11-25T15:38:35.937711Z",
     "iopub.status.busy": "2024-11-25T15:38:35.936667Z",
     "iopub.status.idle": "2024-11-25T15:38:48.796764Z",
     "shell.execute_reply": "2024-11-25T15:38:48.795649Z",
     "shell.execute_reply.started": "2024-11-25T15:38:35.937673Z"
    },
    "trusted": true
   },
   "outputs": [],
   "source": [
    "from tensorflow.keras.preprocessing.image import ImageDataGenerator\n",
    "\n",
    "# Path for the dataset\n",
    "data_dir = '/kaggle/input/cell-images-for-detecting-malaria/cell_images' \n",
    "class_labels = ['Parasitized', 'Uninfected']\n",
    "\n",
    "# Parameters\n",
    "img_height, img_width = 128, 128\n",
    "batch_size = 32\n",
    "train_split = 0.8"
   ]
  },
  {
   "cell_type": "code",
   "execution_count": 2,
   "metadata": {
    "_cell_guid": "b1076dfc-b9ad-4769-8c92-a6c4dae69d19",
    "_uuid": "8f2839f25d086af736a60e9eeb907d3b93b6e0e5",
    "execution": {
     "iopub.execute_input": "2024-11-25T15:38:48.799611Z",
     "iopub.status.busy": "2024-11-25T15:38:48.798872Z",
     "iopub.status.idle": "2024-11-25T15:39:37.181464Z",
     "shell.execute_reply": "2024-11-25T15:39:37.180367Z",
     "shell.execute_reply.started": "2024-11-25T15:38:48.799563Z"
    },
    "trusted": true
   },
   "outputs": [
    {
     "name": "stdout",
     "output_type": "stream",
     "text": [
      "Found 22048 images belonging to 2 classes.\n",
      "Found 5510 images belonging to 2 classes.\n"
     ]
    }
   ],
   "source": [
    "# ImageDataGenerator for training with augmentation\n",
    "train_datagen = ImageDataGenerator(\n",
    "    rescale=1.0/255.0,\n",
    "    rotation_range=15,\n",
    "    width_shift_range=0.1,\n",
    "    height_shift_range=0.1,\n",
    "    shear_range=0.1,\n",
    "    zoom_range=0.2,\n",
    "    horizontal_flip=True,\n",
    "    validation_split=1 - train_split  # Define the validation split\n",
    ")\n",
    "\n",
    "# ImageDataGenerator for validation (without augmentation)\n",
    "test_datagen = ImageDataGenerator(\n",
    "    rescale=1.0/255.0,\n",
    "    validation_split=1 - train_split\n",
    ")\n",
    "\n",
    "# Load the training data with augmentation\n",
    "train_generator = train_datagen.flow_from_directory(\n",
    "    data_dir,\n",
    "    target_size=(img_height, img_width),\n",
    "    batch_size=batch_size,\n",
    "    class_mode='binary',\n",
    "    subset='training',\n",
    "    shuffle=True,\n",
    "    classes=class_labels\n",
    ")\n",
    "\n",
    "# Load the validation data without augmentation\n",
    "test_generator = test_datagen.flow_from_directory(\n",
    "    data_dir,\n",
    "    target_size=(img_height, img_width),\n",
    "    batch_size=batch_size,\n",
    "    class_mode='binary',\n",
    "    subset='validation',\n",
    "    shuffle=False,\n",
    "    classes=class_labels\n",
    ")"
   ]
  },
  {
   "cell_type": "code",
   "execution_count": null,
   "metadata": {
    "trusted": true
   },
   "outputs": [],
   "source": [
    "import os\n",
    "import matplotlib.pyplot as plt\n",
    "import numpy as np\n",
    "\n",
    "class_dirs = [os.path.join(data_dir, class_name) for class_name in ['Parasitized', 'Uninfected']]\n",
    "\n",
    "# Count files in each class folder for the training and test sets\n",
    "train_split = 0.8\n",
    "train_counts = []\n",
    "test_counts = []\n",
    "\n",
    "for class_dir in class_dirs:\n",
    "    total_count = len(os.listdir(class_dir))\n",
    "    train_count = int(total_count * train_split)\n",
    "    test_count = total_count - train_count\n",
    "    train_counts.append(train_count)\n",
    "    test_counts.append(test_count)\n",
    "\n",
    "# Plotting the class distribution\n",
    "x = np.arange(len(class_labels))  # Label locations\n",
    "width = 0.35  # Width of bars\n",
    "\n",
    "fig, ax = plt.subplots(figsize=(10, 6))\n",
    "rects1 = ax.bar(x - width/2, train_counts, width, label='Training')\n",
    "rects2 = ax.bar(x + width/2, test_counts, width, label='Test')\n",
    "\n",
    "# Adding labels, title, and customizing ticks\n",
    "ax.set_xlabel('Class')\n",
    "ax.set_ylabel('Count')\n",
    "ax.set_title('Class Distribution in Training and Test Sets')\n",
    "ax.set_xticks(x)\n",
    "ax.set_xticklabels(class_labels)\n",
    "ax.legend()\n",
    "\n",
    "# Adding data labels\n",
    "def add_labels(rects):\n",
    "    for rect in rects:\n",
    "        height = rect.get_height()\n",
    "        ax.annotate(f'{int(height)}',\n",
    "                    xy=(rect.get_x() + rect.get_width() / 2, height),\n",
    "                    xytext=(0, 3),\n",
    "                    textcoords=\"offset points\",\n",
    "                    ha='center', va='bottom')\n",
    "\n",
    "add_labels(rects1)\n",
    "add_labels(rects2)\n",
    "\n",
    "plt.show()"
   ]
  },
  {
   "cell_type": "code",
   "execution_count": null,
   "metadata": {},
   "outputs": [],
   "source": [
    "from PIL import Image\n",
    "import cv2\n",
    "import matplotlib.pyplot as plt\n",
    "\n",
    "# Initialize dictionaries to store sizes and pixel intensities\n",
    "image_data = {'Parasitized': {'sizes': [], 'pixel_intensities': []},\n",
    "              'Uninfected': {'sizes': [], 'pixel_intensities': []}}\n",
    "\n",
    "# Iterate through the dataset once\n",
    "for class_name in class_labels:\n",
    "    class_path = os.path.join(data_dir, class_name)\n",
    "    for img_name in os.listdir(class_path)[:1000]:\n",
    "        if img_name.endswith(\".png\"):  # Ensure only .png files are processed\n",
    "            img_path = os.path.join(class_path, img_name)\n",
    "\n",
    "            # Get image size using PIL\n",
    "            img = Image.open(img_path)\n",
    "            image_data[class_name]['sizes'].append(img.size)\n",
    "\n",
    "            # Get pixel intensities using OpenCV\n",
    "            img_cv = cv2.imread(img_path, cv2.IMREAD_GRAYSCALE)  # Convert to grayscale\n",
    "            image_data[class_name]['pixel_intensities'].extend(img_cv.flatten())"
   ]
  },
  {
   "cell_type": "code",
   "execution_count": null,
   "metadata": {},
   "outputs": [],
   "source": [
    "# Plot the image dimensions distribution\n",
    "plt.figure(figsize=(8, 6))\n",
    "for class_name, data in image_data.items():\n",
    "    widths, heights = zip(*data['sizes'])\n",
    "    plt.scatter(widths, heights, alpha=0.5, label=class_name)\n",
    "plt.title('Image Dimensions Distribution')\n",
    "plt.xlabel('Width')\n",
    "plt.ylabel('Height')\n",
    "plt.legend()\n",
    "plt.show()"
   ]
  },
  {
   "cell_type": "code",
   "execution_count": null,
   "metadata": {},
   "outputs": [],
   "source": [
    "# Plot the pixel intensity distribution\n",
    "plt.figure(figsize=(10, 6))\n",
    "for class_name, data in image_data.items():\n",
    "    plt.hist(data['pixel_intensities'], bins=50, alpha=0.6, label=class_name)\n",
    "plt.title('Pixel Intensity Distribution')\n",
    "plt.xlabel('Pixel Intensity')\n",
    "plt.ylabel('Frequency')\n",
    "plt.legend()\n",
    "plt.show()"
   ]
  },
  {
   "cell_type": "code",
   "execution_count": null,
   "metadata": {},
   "outputs": [],
   "source": [
    "color_channels = {'Parasitized': {'R': [], 'G': [], 'B': []}, \n",
    "                  'Uninfected': {'R': [], 'G': [], 'B': []}}\n",
    "\n",
    "for class_name in class_labels:\n",
    "    class_path = os.path.join(data_dir, class_name)\n",
    "    for img_name in os.listdir(class_path)[:500]:\n",
    "        if img_name.endswith(\".png\"):\n",
    "            img_path = os.path.join(class_path, img_name)\n",
    "            img = cv2.imread(img_path)\n",
    "            color_channels[class_name]['R'].extend(img[:, :, 2].flatten())\n",
    "            color_channels[class_name]['G'].extend(img[:, :, 1].flatten())\n",
    "            color_channels[class_name]['B'].extend(img[:, :, 0].flatten())\n",
    "\n",
    "# Plot the RGB distributions\n",
    "plt.figure(figsize=(15, 5))\n",
    "for i, (class_name, channels) in enumerate(color_channels.items()):\n",
    "    plt.subplot(1, 2, i + 1)\n",
    "    plt.hist(channels['R'], bins=50, alpha=0.5, color='red', label='Red Channel')\n",
    "    plt.hist(channels['G'], bins=50, alpha=0.5, color='green', label='Green Channel')\n",
    "    plt.hist(channels['B'], bins=50, alpha=0.5, color='blue', label='Blue Channel')\n",
    "    plt.title(f'Color Channel Distribution - {class_name}')\n",
    "    plt.xlabel('Pixel Intensity')\n",
    "    plt.ylabel('Frequency')\n",
    "    plt.legend()\n",
    "plt.tight_layout()\n",
    "plt.show()\n"
   ]
  },
  {
   "cell_type": "code",
   "execution_count": null,
   "metadata": {},
   "outputs": [],
   "source": [
    "import os\n",
    "import matplotlib.pyplot as plt\n",
    "from PIL import Image\n",
    "\n",
    "def plot_class_samples(data_dir, class_labels, num_samples=5):\n",
    "\n",
    "    fig, axes = plt.subplots(len(class_labels), num_samples, figsize=(15, len(class_labels) * 3))\n",
    "    fig.suptitle(\"Sample Images from Each Class\", fontsize=16, y=0.92)\n",
    "\n",
    "    for i, class_name in enumerate(class_labels):\n",
    "        class_path = os.path.join(data_dir, class_name)\n",
    "        # Get all image files from the class directory\n",
    "        image_files = [f for f in os.listdir(class_path) if f.endswith(('.png', '.jpg', '.jpeg'))][:num_samples]\n",
    "\n",
    "        for j, img_file in enumerate(image_files):\n",
    "            img_path = os.path.join(class_path, img_file)\n",
    "            image = Image.open(img_path)\n",
    "\n",
    "            # Plot the image\n",
    "            ax = axes[i, j] if len(class_labels) > 1 else axes[j]\n",
    "            ax.imshow(image)\n",
    "            ax.axis('off')\n",
    "            ax.set_title(class_name if j == 0 else \"\")\n",
    "    \n",
    "    plt.tight_layout()\n",
    "    plt.show()\n",
    "\n",
    "plot_class_samples(data_dir, class_labels, num_samples=5)"
   ]
  },
  {
   "cell_type": "markdown",
   "metadata": {},
   "source": [
    "# CNN Modelling"
   ]
  },
  {
   "cell_type": "code",
   "execution_count": null,
   "metadata": {},
   "outputs": [],
   "source": [
    "import tensorflow as tf\n",
    "from tensorflow.keras.models import Sequential\n",
    "from tensorflow.keras.layers import Conv2D, MaxPooling2D, Flatten, Dense, Dropout\n",
    "\n",
    "# Define the CNN model\n",
    "model = Sequential([\n",
    "    Conv2D(32, (3, 3), activation='relu', input_shape=(img_height, img_width, 3)),\n",
    "    MaxPooling2D((2, 2)),\n",
    "    \n",
    "    Conv2D(64, (3, 3), activation='relu'),\n",
    "    MaxPooling2D((2, 2)),\n",
    "    \n",
    "    Conv2D(128, (3, 3), activation='relu'),\n",
    "    MaxPooling2D((2, 2)),\n",
    "    \n",
    "    Flatten(),\n",
    "    Dense(128, activation='relu'),\n",
    "    Dropout(0.5),\n",
    "    Dense(1, activation='sigmoid')  # Output layer for binary classification\n",
    "])\n",
    "\n",
    "# Compile the model\n",
    "model.compile(optimizer='adam', \n",
    "              loss='binary_crossentropy', \n",
    "              metrics=['accuracy'])\n",
    "\n",
    "# Display the model architecture\n",
    "model.summary()"
   ]
  },
  {
   "cell_type": "code",
   "execution_count": null,
   "metadata": {},
   "outputs": [],
   "source": [
    "from tensorflow.keras.utils import plot_model\n",
    "\n",
    "# Plot and save the model architecture\n",
    "plot_model(\n",
    "    model,\n",
    "    to_file='cnn_model_architecture.png',  # Saves the plot as a PNG file\n",
    "    show_shapes=True,                      # Displays the shape of each layer's output\n",
    "    show_layer_names=True,                 # Displays the layer names\n",
    "    expand_nested=False                    # Expands nested layers (if any)\n",
    ")"
   ]
  },
  {
   "cell_type": "code",
   "execution_count": null,
   "metadata": {},
   "outputs": [],
   "source": [
    "from tensorflow.keras.callbacks import ModelCheckpoint, EarlyStopping\n",
    "\n",
    "# Path to save the best model\n",
    "checkpoint_path = \"best_model_cnn.keras\"\n",
    "\n",
    "# Create a ModelCheckpoint callback\n",
    "checkpoint_callback = ModelCheckpoint(\n",
    "    filepath=checkpoint_path,  # Path to save the model\n",
    "    monitor='val_loss',        # Metric to monitor\n",
    "    save_best_only=True,       # Save only the best model\n",
    "    mode='min',                # Mode to minimize val_loss\n",
    "    verbose=1                  # Print saving details\n",
    ")\n",
    "\n",
    "# Create an EarlyStopping callback\n",
    "early_stopping_callback = EarlyStopping(\n",
    "    monitor='val_loss',       # Metric to monitor\n",
    "    patience=5,               # Number of epochs with no improvement to stop\n",
    "    mode='min',               # Mode to minimize val_loss\n",
    "    verbose=1                 # Print stopping details\n",
    ")"
   ]
  },
  {
   "cell_type": "code",
   "execution_count": null,
   "metadata": {},
   "outputs": [],
   "source": [
    "# Train the model\n",
    "history = model.fit(\n",
    "    train_generator,\n",
    "    epochs=epochs,\n",
    "    validation_data=test_generator,\n",
    "    callbacks=[checkpoint_callback, early_stopping_callback]  # Added callbacks\n",
    ")"
   ]
  }
 ],
 "metadata": {
  "kaggle": {
   "accelerator": "none",
   "dataSources": [
    {
     "datasetId": 87153,
     "sourceId": 200743,
     "sourceType": "datasetVersion"
    }
   ],
   "dockerImageVersionId": 30786,
   "isGpuEnabled": false,
   "isInternetEnabled": true,
   "language": "python",
   "sourceType": "notebook"
  },
  "kernelspec": {
   "display_name": "Python 3",
   "language": "python",
   "name": "python3"
  },
  "language_info": {
   "codemirror_mode": {
    "name": "ipython",
    "version": 3
   },
   "file_extension": ".py",
   "mimetype": "text/x-python",
   "name": "python",
   "nbconvert_exporter": "python",
   "pygments_lexer": "ipython3",
   "version": "3.10.14"
  }
 },
 "nbformat": 4,
 "nbformat_minor": 4
}
